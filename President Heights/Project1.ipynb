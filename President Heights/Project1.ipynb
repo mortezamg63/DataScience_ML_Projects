{
 "cells": [
  {
   "cell_type": "code",
   "execution_count": 22,
   "id": "1c7c0571-1bfc-4cc0-bce2-2513cf80541c",
   "metadata": {
    "tags": []
   },
   "outputs": [],
   "source": [
    "import numpy as np\n",
    "import pandas as pd\n",
    "import matplotlib.pyplot as plt\n",
    "%matplotlib inline"
   ]
  },
  {
   "cell_type": "code",
   "execution_count": 13,
   "id": "cdeae7e3-2e7f-4fdb-97c5-8a78cf70d2d7",
   "metadata": {
    "tags": []
   },
   "outputs": [
    {
     "data": {
      "text/plain": [
       "'/home/mmoha014/Data Science Projects/President Heights'"
      ]
     },
     "execution_count": 13,
     "metadata": {},
     "output_type": "execute_result"
    }
   ],
   "source": [
    "import os \n",
    "# os.chdir('President Heights')\n",
    "os.getcwd()"
   ]
  },
  {
   "cell_type": "code",
   "execution_count": 14,
   "id": "086c5587-7f55-4c99-b813-bf4017b18f88",
   "metadata": {
    "tags": []
   },
   "outputs": [
    {
     "data": {
      "text/html": [
       "<div>\n",
       "<style scoped>\n",
       "    .dataframe tbody tr th:only-of-type {\n",
       "        vertical-align: middle;\n",
       "    }\n",
       "\n",
       "    .dataframe tbody tr th {\n",
       "        vertical-align: top;\n",
       "    }\n",
       "\n",
       "    .dataframe thead th {\n",
       "        text-align: right;\n",
       "    }\n",
       "</style>\n",
       "<table border=\"1\" class=\"dataframe\">\n",
       "  <thead>\n",
       "    <tr style=\"text-align: right;\">\n",
       "      <th></th>\n",
       "      <th>order</th>\n",
       "      <th>name</th>\n",
       "      <th>height(cm)</th>\n",
       "    </tr>\n",
       "  </thead>\n",
       "  <tbody>\n",
       "    <tr>\n",
       "      <th>0</th>\n",
       "      <td>1</td>\n",
       "      <td>George Washington</td>\n",
       "      <td>189</td>\n",
       "    </tr>\n",
       "    <tr>\n",
       "      <th>1</th>\n",
       "      <td>2</td>\n",
       "      <td>John Adams</td>\n",
       "      <td>170</td>\n",
       "    </tr>\n",
       "    <tr>\n",
       "      <th>2</th>\n",
       "      <td>3</td>\n",
       "      <td>Thomas Jefferson</td>\n",
       "      <td>189</td>\n",
       "    </tr>\n",
       "    <tr>\n",
       "      <th>3</th>\n",
       "      <td>4</td>\n",
       "      <td>James Madison</td>\n",
       "      <td>163</td>\n",
       "    </tr>\n",
       "    <tr>\n",
       "      <th>4</th>\n",
       "      <td>5</td>\n",
       "      <td>James Monroe</td>\n",
       "      <td>183</td>\n",
       "    </tr>\n",
       "  </tbody>\n",
       "</table>\n",
       "</div>"
      ],
      "text/plain": [
       "   order               name  height(cm)\n",
       "0      1  George Washington         189\n",
       "1      2         John Adams         170\n",
       "2      3   Thomas Jefferson         189\n",
       "3      4      James Madison         163\n",
       "4      5       James Monroe         183"
      ]
     },
     "execution_count": 14,
     "metadata": {},
     "output_type": "execute_result"
    }
   ],
   "source": [
    "data = pd.read_csv('president_heights.csv')\n",
    "data.head()"
   ]
  },
  {
   "cell_type": "code",
   "execution_count": 15,
   "id": "de232997-123c-4706-87b5-cf2283bb16d2",
   "metadata": {
    "tags": []
   },
   "outputs": [
    {
     "data": {
      "text/plain": [
       "array([189, 170, 189, 163, 183, 171, 185, 168, 173, 183, 173, 173, 175,\n",
       "       178, 183, 193, 178, 173, 174, 183, 183, 168, 170, 178, 182, 180,\n",
       "       183, 178, 182, 188, 175, 179, 183, 193, 182, 183, 177, 185, 188,\n",
       "       188, 182, 185])"
      ]
     },
     "execution_count": 15,
     "metadata": {},
     "output_type": "execute_result"
    }
   ],
   "source": [
    "height = np.array(data['height(cm)'])\n",
    "height"
   ]
  },
  {
   "cell_type": "markdown",
   "id": "f1d68a4e-c528-4020-9277-114d1112f1bd",
   "metadata": {},
   "source": [
    "# The distribution of values"
   ]
  },
  {
   "cell_type": "code",
   "execution_count": 19,
   "id": "d168b420-d34c-4205-b987-5aa993f28631",
   "metadata": {
    "tags": []
   },
   "outputs": [
    {
     "name": "stdout",
     "output_type": "stream",
     "text": [
      "Mean of heights:  179.73809523809524\n",
      "Standrad deviation of height:  6.931843442745892\n",
      "Max height:  193\n",
      "Min height:  163\n",
      "-----------------------------------\n",
      "25th percentile:  174.25\n",
      "Median:  182.0\n",
      "75th percentile:  183.0\n",
      "90th percentile:  188.0\n"
     ]
    }
   ],
   "source": [
    "print(\"Mean of heights: \", height.mean())\n",
    "print(\"Standrad deviation of height: \", height.std())\n",
    "print(\"Max height: \", height.max())\n",
    "print(\"Min height: \", height.min())\n",
    "print(\"-----------------------------------\")\n",
    "print(\"25th percentile: \", np.percentile(height, 25))\n",
    "print(\"Median: \", np.median(height))\n",
    "print(\"75th percentile: \", np.percentile(height, 75))\n",
    "print(\"90th percentile: \", np.percentile(height, 90))\n"
   ]
  },
  {
   "cell_type": "markdown",
   "id": "da5cf8ad-9551-42bf-a2c6-65eeaa51098f",
   "metadata": {},
   "source": [
    "### We see that the median height of US presidents is 182 cm, or just about six feet."
   ]
  },
  {
   "cell_type": "markdown",
   "id": "12420e97-72a7-45d8-b771-14f0f64df5a8",
   "metadata": {},
   "source": [
    "##  Visual representation of this data"
   ]
  },
  {
   "cell_type": "code",
   "execution_count": 24,
   "id": "cb4290bd-71b0-43af-97bb-7e59f225fe9d",
   "metadata": {
    "tags": []
   },
   "outputs": [
    {
     "data": {
      "image/png": "[encoded data removed]",
      "text/plain": [
       "<Figure size 640x480 with 1 Axes>"
      ]
     },
     "metadata": {},
     "output_type": "display_data"
    }
   ],
   "source": [
    "plt.hist(height)\n",
    "plt.title(\"Height distrubtion of presidents of USA\")\n",
    "plt.xlabel(\"Height (CM)\")\n",
    "plt.ylabel(\"Count\")\n",
    "plt.show()\n"
   ]
  }
 ],
 "metadata": {
  "kernelspec": {
   "display_name": "myenv",
   "language": "python",
   "name": "myenv"
  },
  "language_info": {
   "codemirror_mode": {
    "name": "ipython",
    "version": 3
   },
   "file_extension": ".py",
   "mimetype": "text/x-python",
   "name": "python",
   "nbconvert_exporter": "python",
   "pygments_lexer": "ipython3",
   "version": "3.8.13"
  }
 },
 "nbformat": 4,
 "nbformat_minor": 5
}
