{
 "cells": [
  {
   "cell_type": "markdown",
   "id": "c856e3e2-67cc-4222-a698-8c83ad38e967",
   "metadata": {
    "tags": []
   },
   "source": [
    "We are targeting the Amazon Best Sellers page in the Teaching & Education category. Amazon’s pagination allows us to navigate through multiple pages of results. The base URL for the first page looks like this:\n",
    "\n",
    "'''https://www.amazon.in/gp/bestsellers/books/4149461031/ref=zg_bs_pg_1?ie=UTF8&pg=1'''\n",
    "\n",
    "Notice the pagination parameters “pg” and “zg_bs_pg” in the URL. We will increment these values to navigate through the pages."
   ]
  },
  {
   "cell_type": "markdown",
   "id": "378fd4e3-52d0-4b78-a8a7-9c8491e36c34",
   "metadata": {},
   "source": [
    "# Step 1: Set Up the HTTP Request"
   ]
  },
  {
   "cell_type": "markdown",
   "id": "7847342f-975e-4e58-a57d-8246a5fd054a",
   "metadata": {},
   "source": [
    "To scrape the content from Amazon, we first need to send a request to the server and retrieve the HTML content of the page. We also need to mimic a real browser to avoid being blocked by Amazon, which is why we always need to include a User-Agent header in the request. Here’s how to set up the HTTP request:"
   ]
  },
  {
   "cell_type": "code",
   "execution_count": 2,
   "id": "731ffacf-c6dd-4231-99cb-bd1b54419b7c",
   "metadata": {
    "tags": []
   },
   "outputs": [],
   "source": [
    "import requests\n",
    "from bs4 import BeautifulSoup\n",
    "import pandas as pd\n",
    "\n",
    "# base url of the best sellers page for teaching & education books\n",
    "base_url = \"https://www.amazon.in/gp/bestsellers/books/4149461031/ref=zg_bs_pg_{}?ie=UTF8&pg={}\"\n",
    "\n",
    "# http headers to mimic a browser visit\n",
    "headers = {\n",
    "    \"User-Agent\": \"Mozilla/5.0 (Windows NT 10.0; Win64; x64) AppleWebKit/537.36 (KHTML, like Gecko) Chrome/58.0.3029.110 Safari/537.3\"\n",
    "}"
   ]
  },
  {
   "cell_type": "markdown",
   "id": "eeeafbb7-2f56-4255-a926-2509ff7c7ff1",
   "metadata": {},
   "source": [
    "# Step 2: Iterate Over Pages to Collect Data"
   ]
  },
  {
   "cell_type": "markdown",
   "id": "1bb846b9-15bd-4aa6-8895-ebf99b984f56",
   "metadata": {},
   "source": [
    "Now, we will loop through the first three pages to collect data for the top 50 books (assuming each page displays around 20 items). On each page, we will extract the author’s name and rating:"
   ]
  },
  {
   "cell_type": "code",
   "execution_count": 28,
   "id": "f4fd0542-e1f2-48ed-9b96-f135f63c4e56",
   "metadata": {
    "tags": []
   },
   "outputs": [
    {
     "name": "stdout",
     "output_type": "stream",
     "text": [
      "Looking in indexes: https://pypi.org/simple, https://pypi.ngc.nvidia.com\n",
      "Collecting lxml\n",
      "  Downloading lxml-5.3.0-cp310-cp310-manylinux_2_28_x86_64.whl (5.0 MB)\n",
      "\u001b[2K     \u001b[90m━━━━━━━━━━━━━━━━━━━━━━━━━━━━━━━━━━━━━━━━\u001b[0m \u001b[32m5.0/5.0 MB\u001b[0m \u001b[31m80.1 MB/s\u001b[0m eta \u001b[36m0:00:00\u001b[0ma \u001b[36m0:00:01\u001b[0m\n",
      "\u001b[?25hInstalling collected packages: lxml\n",
      "Successfully installed lxml-5.3.0\n"
     ]
    }
   ],
   "source": [
    "# response = requests.get(url, headers=headers)\n",
    "# response.content[:1000]\n",
    "!pip install lxml\n"
   ]
  },
  {
   "cell_type": "code",
   "execution_count": 30,
   "id": "7dab9078-7aa2-45d6-87a0-04a7acb94a17",
   "metadata": {
    "tags": []
   },
   "outputs": [],
   "source": [
    "# initialize a list to store book data\n",
    "book_list = []\n",
    "\n",
    "# iterate over the first 3 pages to get top 50 books (assuming each page has about 20 items)\n",
    "for page in range(1, 4):\n",
    "    # construct the URL for the current page\n",
    "    url = base_url.format(page, page)\n",
    "    \n",
    "    # send a GET request to the url\n",
    "    response = requests.get(url, headers=headers)\n",
    "    \n",
    "    # parse the HTML content using BeautifulSoup\n",
    "    soup = BeautifulSoup(response.content, \"html.parser\") #\"lxml\")\n",
    "    \n",
    "    # find all the book elements\n",
    "    books = soup.find_all(\"div\", {\"class\": \"zg-grid-general-faceout\"})\n",
    "    \n",
    "    # iterate over each book element to extract data\n",
    "    for book in books:\n",
    "        if len(book_list) < 50:  # stop once we've collected 50 books\n",
    "            author = book.find(\"a\", class_=\"a-size-small a-link-child\").get_text(strip=True) if book.find(\"a\", class_=\"a-size-small a-link-child\") else \"N/A\"\n",
    "            rating = book.find(\"span\", class_=\"a-icon-alt\").get_text(strip=True) if book.find(\"span\", class_=\"a-icon-alt\") else \"N/A\"\n",
    "            \n",
    "            # append the extracted data to the book_list\n",
    "            book_list.append({\n",
    "                \"Author\": author,\n",
    "                \"Rating\": rating\n",
    "            })\n",
    "        else:\n",
    "            break"
   ]
  },
  {
   "cell_type": "code",
   "execution_count": 31,
   "id": "c9334704-d711-4da0-84c5-deaff5677d3f",
   "metadata": {
    "tags": []
   },
   "outputs": [
    {
     "data": {
      "text/plain": [
       "[{'Author': 'Samapti Sinha Mahapatra', 'Rating': '4.6 out of 5 stars'},\n",
       " {'Author': 'Ishinna B. Sadana', 'Rating': '4.8 out of 5 stars'},\n",
       " {'Author': 'Kriti Sharma', 'Rating': '4.7 out of 5 stars'},\n",
       " {'Author': 'Kautilya', 'Rating': '4.5 out of 5 stars'},\n",
       " {'Author': 'एम लक्ष्मीकांत', 'Rating': '4.4 out of 5 stars'},\n",
       " {'Author': 'Lori Gottlieb', 'Rating': '4.6 out of 5 stars'},\n",
       " {'Author': 'PR Yadav', 'Rating': '4.4 out of 5 stars'},\n",
       " {'Author': 'Dr. Chhavi Kalra', 'Rating': '4.6 out of 5 stars'},\n",
       " {'Author': 'R.K. Gupta', 'Rating': '4.5 out of 5 stars'},\n",
       " {'Author': 'Wonder House Books', 'Rating': '4.7 out of 5 stars'},\n",
       " {'Author': 'Rajesh Verma', 'Rating': '4.3 out of 5 stars'},\n",
       " {'Author': 'EduGorilla PREP EXPERT', 'Rating': '4.0 out of 5 stars'},\n",
       " {'Author': 'Wonder House Books', 'Rating': '4.7 out of 5 stars'},\n",
       " {'Author': 'Professional Book Publishers', 'Rating': '4.7 out of 5 stars'},\n",
       " {'Author': 'N/A', 'Rating': '4.7 out of 5 stars'},\n",
       " {'Author': 'N/A', 'Rating': '4.8 out of 5 stars'},\n",
       " {'Author': 'Graduate Management Admission Council',\n",
       "  'Rating': '4.4 out of 5 stars'},\n",
       " {'Author': 'N/A', 'Rating': '3.2 out of 5 stars'},\n",
       " {'Author': 'N/A', 'Rating': '4.2 out of 5 stars'},\n",
       " {'Author': 'Amulya Dhal', 'Rating': '4.5 out of 5 stars'},\n",
       " {'Author': 'N/A', 'Rating': 'N/A'},\n",
       " {'Author': 'Wonder House Books', 'Rating': '4.7 out of 5 stars'},\n",
       " {'Author': 'Esther Wojcicki', 'Rating': '4.5 out of 5 stars'},\n",
       " {'Author': 'EduGorilla Prep Experts', 'Rating': '4.2 out of 5 stars'},\n",
       " {'Author': 'N/A', 'Rating': '4.3 out of 5 stars'},\n",
       " {'Author': 'Mangal', 'Rating': '4.5 out of 5 stars'},\n",
       " {'Author': 'Blueprint Editorial Board', 'Rating': '4.5 out of 5 stars'},\n",
       " {'Author': 'N/A', 'Rating': '4.2 out of 5 stars'},\n",
       " {'Author': 'N/A', 'Rating': '3.8 out of 5 stars'},\n",
       " {'Author': 'N/A', 'Rating': '5.0 out of 5 stars'},\n",
       " {'Author': 'EduGorilla Prep Experts', 'Rating': '5.0 out of 5 stars'},\n",
       " {'Author': 'N/A', 'Rating': '4.1 out of 5 stars'},\n",
       " {'Author': 'Gerald Corey', 'Rating': '4.5 out of 5 stars'},\n",
       " {'Author': 'Wonder House Books', 'Rating': '4.6 out of 5 stars'},\n",
       " {'Author': 'Trevor MacKenzie', 'Rating': '4.7 out of 5 stars'},\n",
       " {'Author': 'Dr. Juhi Gupta', 'Rating': '4.2 out of 5 stars'},\n",
       " {'Author': 'Arihant Experts', 'Rating': '4.1 out of 5 stars'},\n",
       " {'Author': 'N/A', 'Rating': '3.3 out of 5 stars'},\n",
       " {'Author': 'N/A', 'Rating': '4.4 out of 5 stars'},\n",
       " {'Author': 'EduGorilla Prep Experts', 'Rating': '3.9 out of 5 stars'},\n",
       " {'Author': 'S L Loney', 'Rating': '4.4 out of 5 stars'},\n",
       " {'Author': 'N/A', 'Rating': '4.1 out of 5 stars'},\n",
       " {'Author': 'N/A', 'Rating': '2.9 out of 5 stars'},\n",
       " {'Author': 'N/A', 'Rating': '3.8 out of 5 stars'},\n",
       " {'Author': 'Mike Thacker Tony Weston & Simon Barefoot & Timothy Guilford Mónica Morcillo Laiz & José Antonio García Sánchez',\n",
       "  'Rating': '4.3 out of 5 stars'},\n",
       " {'Author': 'N/A', 'Rating': '4.5 out of 5 stars'},\n",
       " {'Author': 'EduGorilla Prep Experts', 'Rating': '3.7 out of 5 stars'},\n",
       " {'Author': 'N/A', 'Rating': '3.0 out of 5 stars'},\n",
       " {'Author': 'N/A', 'Rating': '4.7 out of 5 stars'},\n",
       " {'Author': 'Princeton Review', 'Rating': '3.3 out of 5 stars'}]"
      ]
     },
     "execution_count": 31,
     "metadata": {},
     "output_type": "execute_result"
    }
   ],
   "source": [
    "book_list"
   ]
  },
  {
   "cell_type": "markdown",
   "id": "6b28668e-459f-41ec-9052-374568338b57",
   "metadata": {},
   "source": [
    "# Step 3: Store and Save the Data"
   ]
  },
  {
   "cell_type": "code",
   "execution_count": 32,
   "id": "4bb86006-b95a-4cff-974a-1606e8c5ea7d",
   "metadata": {
    "tags": []
   },
   "outputs": [
    {
     "name": "stdout",
     "output_type": "stream",
     "text": [
      "                    Author              Rating\n",
      "0  Samapti Sinha Mahapatra  4.6 out of 5 stars\n",
      "1        Ishinna B. Sadana  4.8 out of 5 stars\n",
      "2             Kriti Sharma  4.7 out of 5 stars\n",
      "3                 Kautilya  4.5 out of 5 stars\n",
      "4           एम लक्ष्मीकांत  4.4 out of 5 stars\n"
     ]
    }
   ],
   "source": [
    "# After collecting the data, we will store it in a Pandas DataFrame and save it to a CSV file:\n",
    "# convert the list of dictionaries into a DataFrame\n",
    "df = pd.DataFrame(book_list)\n",
    "\n",
    "print(df.head())\n",
    "\n",
    "# save the DataFrame to a CSV file\n",
    "df.to_csv(\"amazon_top_50_books_authors_ratings.csv\", index=False)"
   ]
  },
  {
   "cell_type": "code",
   "execution_count": null,
   "id": "482fc2dd-5bee-4670-9ab5-dfeb40dcb718",
   "metadata": {},
   "outputs": [],
   "source": []
  }
 ],
 "metadata": {
  "kernelspec": {
   "display_name": "Python 3 (ipykernel)",
   "language": "python",
   "name": "python3"
  },
  "language_info": {
   "codemirror_mode": {
    "name": "ipython",
    "version": 3
   },
   "file_extension": ".py",
   "mimetype": "text/x-python",
   "name": "python",
   "nbconvert_exporter": "python",
   "pygments_lexer": "ipython3",
   "version": "3.10.8"
  }
 },
 "nbformat": 4,
 "nbformat_minor": 5
}
