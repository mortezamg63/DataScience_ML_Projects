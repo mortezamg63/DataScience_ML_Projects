{
 "cells": [
  {
   "cell_type": "markdown",
   "id": "afa22f3a-5c95-413d-ad29-2a6e06a48caf",
   "metadata": {},
   "source": [
    "# 1. Import and load the data file"
   ]
  },
  {
   "cell_type": "code",
   "execution_count": 5,
   "id": "d2797292-04c2-4d64-8fef-e6ae8a55111e",
   "metadata": {
    "tags": []
   },
   "outputs": [],
   "source": [
    "import nltk\n",
    "from nltk.stem import WordNetLemmatizer\n",
    "lemmatizer = WordNetLemmatizer()\n",
    "import json\n",
    "import pickle\n",
    "\n",
    "import numpy as np\n",
    "from keras.models import Sequential\n",
    "from keras.layers import Dense, Activation, Dropout\n",
    "from keras.optimizers import SGD\n",
    "import random\n",
    "\n",
    "words=[]\n",
    "classes = []\n",
    "documents = []\n",
    "ignore_words = ['?', '!']\n",
    "data_file = open('intents.json').read()\n",
    "intents = json.loads(data_file)"
   ]
  },
  {
   "cell_type": "code",
   "execution_count": 6,
   "id": "ae09fef9-3c00-4ea5-903d-560503a8a27d",
   "metadata": {
    "tags": []
   },
   "outputs": [
    {
     "data": {
      "text/plain": [
       "{'intents': [{'tag': 'greeting',\n",
       "   'patterns': ['Hi there',\n",
       "    'How are you',\n",
       "    'Is anyone there?',\n",
       "    'Hey',\n",
       "    'Hola',\n",
       "    'Hello',\n",
       "    'Good day'],\n",
       "   'responses': ['Hello, thanks for asking',\n",
       "    'Good to see you again',\n",
       "    'Hi there, how can I help?'],\n",
       "   'context': ['']},\n",
       "  {'tag': 'goodbye',\n",
       "   'patterns': ['Bye',\n",
       "    'See you later',\n",
       "    'Goodbye',\n",
       "    'Nice chatting to you, bye',\n",
       "    'Till next time'],\n",
       "   'responses': ['See you!', 'Have a nice day', 'Bye! Come back again soon.'],\n",
       "   'context': ['']},\n",
       "  {'tag': 'thanks',\n",
       "   'patterns': ['Thanks',\n",
       "    'Thank you',\n",
       "    \"That's helpful\",\n",
       "    'Awesome, thanks',\n",
       "    'Thanks for helping me'],\n",
       "   'responses': ['Happy to help!', 'Any time!', 'My pleasure'],\n",
       "   'context': ['']},\n",
       "  {'tag': 'noanswer',\n",
       "   'patterns': [],\n",
       "   'responses': [\"Sorry, can't understand you\",\n",
       "    'Please give me more info',\n",
       "    'Not sure I understand'],\n",
       "   'context': ['']},\n",
       "  {'tag': 'options',\n",
       "   'patterns': ['How you could help me?',\n",
       "    'What you can do?',\n",
       "    'What help you provide?',\n",
       "    'How you can be helpful?',\n",
       "    'What support is offered'],\n",
       "   'responses': ['I can guide you through Adverse drug reaction list, Blood pressure tracking, Hospitals and Pharmacies',\n",
       "    'Offering support for Adverse drug reaction, Blood pressure, Hospitals and Pharmacies'],\n",
       "   'context': ['']},\n",
       "  {'tag': 'adverse_drug',\n",
       "   'patterns': ['How to check Adverse drug reaction?',\n",
       "    'Open adverse drugs module',\n",
       "    'Give me a list of drugs causing adverse behavior',\n",
       "    'List all drugs suitable for patient with adverse reaction',\n",
       "    'Which drugs dont have adverse reaction?'],\n",
       "   'responses': ['Navigating to Adverse drug reaction module'],\n",
       "   'context': ['']},\n",
       "  {'tag': 'blood_pressure',\n",
       "   'patterns': ['Open blood pressure module',\n",
       "    'Task related to blood pressure',\n",
       "    'Blood pressure data entry',\n",
       "    'I want to log blood pressure results',\n",
       "    'Blood pressure data management'],\n",
       "   'responses': ['Navigating to Blood Pressure module'],\n",
       "   'context': ['']},\n",
       "  {'tag': 'blood_pressure_search',\n",
       "   'patterns': ['I want to search for blood pressure result history',\n",
       "    'Blood pressure for patient',\n",
       "    'Load patient blood pressure result',\n",
       "    'Show blood pressure results for patient',\n",
       "    'Find blood pressure results by ID'],\n",
       "   'responses': ['Please provide Patient ID', 'Patient ID?'],\n",
       "   'context': ['search_blood_pressure_by_patient_id']},\n",
       "  {'tag': 'search_blood_pressure_by_patient_id',\n",
       "   'patterns': [],\n",
       "   'responses': ['Loading Blood pressure result for Patient'],\n",
       "   'context': ['']},\n",
       "  {'tag': 'pharmacy_search',\n",
       "   'patterns': ['Find me a pharmacy',\n",
       "    'Find pharmacy',\n",
       "    'List of pharmacies nearby',\n",
       "    'Locate pharmacy',\n",
       "    'Search pharmacy'],\n",
       "   'responses': ['Please provide pharmacy name'],\n",
       "   'context': ['search_pharmacy_by_name']},\n",
       "  {'tag': 'search_pharmacy_by_name',\n",
       "   'patterns': [],\n",
       "   'responses': ['Loading pharmacy details'],\n",
       "   'context': ['']},\n",
       "  {'tag': 'hospital_search',\n",
       "   'patterns': ['Lookup for hospital',\n",
       "    'Searching for hospital to transfer patient',\n",
       "    'I want to search hospital data',\n",
       "    'Hospital lookup for patient',\n",
       "    'Looking up hospital details'],\n",
       "   'responses': ['Please provide hospital name or location'],\n",
       "   'context': ['search_hospital_by_params']},\n",
       "  {'tag': 'search_hospital_by_params',\n",
       "   'patterns': [],\n",
       "   'responses': ['Please provide hospital type'],\n",
       "   'context': ['search_hospital_by_type']},\n",
       "  {'tag': 'search_hospital_by_type',\n",
       "   'patterns': [],\n",
       "   'responses': ['Loading hospital details'],\n",
       "   'context': ['']}]}"
      ]
     },
     "execution_count": 6,
     "metadata": {},
     "output_type": "execute_result"
    }
   ],
   "source": [
    "intents"
   ]
  },
  {
   "cell_type": "markdown",
   "id": "e57e613d-f865-47d4-8437-9a3ac0ccb156",
   "metadata": {},
   "source": [
    "# Preprocessing Data"
   ]
  },
  {
   "cell_type": "code",
   "execution_count": 10,
   "id": "013ab3d0-7884-4750-a2c1-06b99f6d7ae5",
   "metadata": {
    "tags": []
   },
   "outputs": [
    {
     "name": "stderr",
     "output_type": "stream",
     "text": [
      "[nltk_data] Downloading package punkt to /home/mmoha014/nltk_data...\n",
      "[nltk_data]   Package punkt is already up-to-date!\n"
     ]
    }
   ],
   "source": [
    " nltk.download('punkt')\n",
    "for intent in intents['intents']:\n",
    "    for pattern in intent['patterns']:\n",
    "\n",
    "        #tokenize each word\n",
    "        # import pdb; pdb.set_trace()\n",
    "        w = nltk.word_tokenize(pattern)\n",
    "        words.extend(w)\n",
    "        #add documents in the corpus\n",
    "        documents.append((w, intent['tag']))\n",
    "\n",
    "        # add to our classes list\n",
    "        if intent['tag'] not in classes:\n",
    "            classes.append(intent['tag'])"
   ]
  },
  {
   "cell_type": "code",
   "execution_count": 14,
   "id": "9639736a-9290-42c6-9675-24ff8ae8faa6",
   "metadata": {
    "tags": []
   },
   "outputs": [
    {
     "name": "stderr",
     "output_type": "stream",
     "text": [
      "[nltk_data] Downloading package wordnet to /home/mmoha014/nltk_data...\n"
     ]
    },
    {
     "name": "stdout",
     "output_type": "stream",
     "text": [
      "48 documents\n",
      "9 classes ['adverse_drug', 'blood_pressure', 'blood_pressure_search', 'goodbye', 'greeting', 'hospital_search', 'options', 'pharmacy_search', 'thanks']\n",
      "88 unique lemmatized words [\"'s\", ',', 'a', 'adverse', 'all', 'anyone', 'are', 'awesome', 'be', 'behavior', 'blood', 'by', 'bye', 'can', 'causing', 'chatting', 'check', 'could', 'data', 'day', 'detail', 'do', 'dont', 'drug', 'entry', 'find', 'for', 'give', 'good', 'goodbye', 'have', 'hello', 'help', 'helpful', 'helping', 'hey', 'hi', 'history', 'hola', 'hospital', 'how', 'i', 'id', 'is', 'later', 'list', 'load', 'locate', 'log', 'looking', 'lookup', 'management', 'me', 'module', 'nearby', 'next', 'nice', 'of', 'offered', 'open', 'patient', 'pharmacy', 'pressure', 'provide', 'reaction', 'related', 'result', 'search', 'searching', 'see', 'show', 'suitable', 'support', 'task', 'thank', 'thanks', 'that', 'there', 'till', 'time', 'to', 'transfer', 'up', 'want', 'what', 'which', 'with', 'you']\n"
     ]
    }
   ],
   "source": [
    "nltk.download('wordnet')\n",
    "# lemmatize, lower each word and remove duplicates\n",
    "words = [lemmatizer.lemmatize(w.lower()) for w in words if w not in ignore_words]\n",
    "words = sorted(list(set(words)))\n",
    "# sort classes\n",
    "classes = sorted(list(set(classes)))\n",
    "# documents = combination between patterns and intents\n",
    "print (len(documents), \"documents\")\n",
    "# classes = intents\n",
    "print (len(classes), \"classes\", classes)\n",
    "# words = all words, vocabulary\n",
    "print (len(words), \"unique lemmatized words\", words)\n",
    "\n",
    "pickle.dump(words,open('words.pkl','wb'))\n",
    "pickle.dump(classes,open('classes.pkl','wb'))"
   ]
  },
  {
   "cell_type": "markdown",
   "id": "ddd0f4b7-806a-495f-aac7-b34fd9ad93f5",
   "metadata": {},
   "source": [
    "# 3. Create training and testing data"
   ]
  },
  {
   "cell_type": "code",
   "execution_count": 18,
   "id": "700222a5-d6a2-4455-bf7c-87b762bb1126",
   "metadata": {
    "tags": []
   },
   "outputs": [
    {
     "name": "stdout",
     "output_type": "stream",
     "text": [
      "Training data created\n"
     ]
    },
    {
     "name": "stderr",
     "output_type": "stream",
     "text": [
      "/tmp/ipykernel_1277790/284705495.py:26: VisibleDeprecationWarning: Creating an ndarray from ragged nested sequences (which is a list-or-tuple of lists-or-tuples-or ndarrays with different lengths or shapes) is deprecated. If you meant to do this, you must specify 'dtype=object' when creating the ndarray.\n",
      "  training = np.array(training)\n"
     ]
    }
   ],
   "source": [
    "# create our training data\n",
    "training = []\n",
    "# create an empty array for our output\n",
    "output_empty = [0] * len(classes)\n",
    "# training set, bag of words for each sentence\n",
    "for doc in documents:\n",
    "    # import pdb; pdb.set_trace()\n",
    "    # initialize our bag of words\n",
    "    bag = []\n",
    "    # list of tokenized words for the pattern\n",
    "    pattern_words = doc[0]\n",
    "    # lemmatize each word - create base word, in attempt to represent related words\n",
    "    pattern_words = [lemmatizer.lemmatize(word.lower()) for word in pattern_words]\n",
    "    # create our bag of words array with 1, if word match found in current pattern\n",
    "    # creating one-hot encoding\n",
    "    for w in words:\n",
    "        bag.append(1) if w in pattern_words else bag.append(0)\n",
    "\n",
    "    # output is a '0' for each tag and '1' for current tag (for each pattern)\n",
    "    output_row = list(output_empty)\n",
    "    output_row[classes.index(doc[1])] = 1 # creating the label for the pattern words in each document\n",
    "\n",
    "    training.append([bag, output_row])\n",
    "# shuffle our features and turn into np.array\n",
    "random.shuffle(training)\n",
    "training = np.array(training)\n",
    "# create train and test lists. X - patterns, Y - intents\n",
    "train_x = list(training[:,0])\n",
    "train_y = list(training[:,1])\n",
    "print(\"Training data created\")"
   ]
  },
  {
   "cell_type": "markdown",
   "id": "dd798a6d-0cd3-49b5-856c-488cacb16be8",
   "metadata": {},
   "source": [
    "# 4. Build the model\n",
    "We have our training data ready, now we will build a deep neural network that has 3 layers. We use the Keras sequential API for this. After training the model for 200 epochs, we achieved 100% accuracy on our model. Let us save the model as ‘chatbot_model.h5’."
   ]
  },
  {
   "cell_type": "code",
   "execution_count": 19,
   "id": "dc167c79-61bb-45cc-94ce-3fb04dc3d2ec",
   "metadata": {
    "tags": []
   },
   "outputs": [
    {
     "name": "stderr",
     "output_type": "stream",
     "text": [
      "2024-06-14 15:47:54.909394: I tensorflow/core/common_runtime/gpu/gpu_device.cc:1635] Created device /job:localhost/replica:0/task:0/device:GPU:0 with 14733 MB memory:  -> device: 0, name: Tesla V100-SXM2-16GB, pci bus id: 0000:1a:00.0, compute capability: 7.0\n",
      "/opt/conda/lib/python3.10/site-packages/keras/optimizers/legacy/gradient_descent.py:114: UserWarning: The `lr` argument is deprecated, use `learning_rate` instead.\n",
      "  super().__init__(name, **kwargs)\n"
     ]
    },
    {
     "name": "stdout",
     "output_type": "stream",
     "text": [
      "Epoch 1/200\n",
      "10/10 [==============================] - 3s 3ms/step - loss: 2.2465 - accuracy: 0.1875\n",
      "Epoch 2/200\n",
      "10/10 [==============================] - 0s 2ms/step - loss: 2.1925 - accuracy: 0.1875\n",
      "Epoch 3/200\n",
      "10/10 [==============================] - 0s 2ms/step - loss: 2.1230 - accuracy: 0.1458\n",
      "Epoch 4/200\n",
      "10/10 [==============================] - 0s 2ms/step - loss: 2.0337 - accuracy: 0.2708\n",
      "Epoch 5/200\n",
      "10/10 [==============================] - 0s 2ms/step - loss: 1.9279 - accuracy: 0.4792\n",
      "Epoch 6/200\n",
      "10/10 [==============================] - 0s 2ms/step - loss: 1.7423 - accuracy: 0.5000\n",
      "Epoch 7/200\n",
      "10/10 [==============================] - 0s 2ms/step - loss: 1.7435 - accuracy: 0.5000\n",
      "Epoch 8/200\n",
      "10/10 [==============================] - 0s 2ms/step - loss: 1.5828 - accuracy: 0.5208\n",
      "Epoch 9/200\n",
      "10/10 [==============================] - 0s 2ms/step - loss: 1.3785 - accuracy: 0.6042\n",
      "Epoch 10/200\n",
      "10/10 [==============================] - 0s 2ms/step - loss: 1.2703 - accuracy: 0.6667\n",
      "Epoch 11/200\n",
      "10/10 [==============================] - 0s 2ms/step - loss: 1.2290 - accuracy: 0.6042\n",
      "Epoch 12/200\n",
      "10/10 [==============================] - 0s 2ms/step - loss: 0.9732 - accuracy: 0.7917\n",
      "Epoch 13/200\n",
      "10/10 [==============================] - 0s 2ms/step - loss: 1.0296 - accuracy: 0.6875\n",
      "Epoch 14/200\n",
      "10/10 [==============================] - 0s 2ms/step - loss: 0.8633 - accuracy: 0.7292\n",
      "Epoch 15/200\n",
      "10/10 [==============================] - 0s 2ms/step - loss: 0.8127 - accuracy: 0.7708\n",
      "Epoch 16/200\n",
      "10/10 [==============================] - 0s 2ms/step - loss: 0.6478 - accuracy: 0.8333\n",
      "Epoch 17/200\n",
      "10/10 [==============================] - 0s 2ms/step - loss: 0.7878 - accuracy: 0.7917\n",
      "Epoch 18/200\n",
      "10/10 [==============================] - 0s 2ms/step - loss: 0.7281 - accuracy: 0.8125\n",
      "Epoch 19/200\n",
      "10/10 [==============================] - 0s 2ms/step - loss: 0.5599 - accuracy: 0.8750\n",
      "Epoch 20/200\n",
      "10/10 [==============================] - 0s 2ms/step - loss: 0.4642 - accuracy: 0.9167\n",
      "Epoch 21/200\n",
      "10/10 [==============================] - 0s 2ms/step - loss: 0.4085 - accuracy: 0.9167\n",
      "Epoch 22/200\n",
      "10/10 [==============================] - 0s 2ms/step - loss: 0.5285 - accuracy: 0.8750\n",
      "Epoch 23/200\n",
      "10/10 [==============================] - 0s 2ms/step - loss: 0.4720 - accuracy: 0.8542\n",
      "Epoch 24/200\n",
      "10/10 [==============================] - 0s 2ms/step - loss: 0.2515 - accuracy: 0.9375\n",
      "Epoch 25/200\n",
      "10/10 [==============================] - 0s 2ms/step - loss: 0.3729 - accuracy: 0.9375\n",
      "Epoch 26/200\n",
      "10/10 [==============================] - 0s 2ms/step - loss: 0.2710 - accuracy: 0.9375\n",
      "Epoch 27/200\n",
      "10/10 [==============================] - 0s 2ms/step - loss: 0.3490 - accuracy: 0.8750\n",
      "Epoch 28/200\n",
      "10/10 [==============================] - 0s 2ms/step - loss: 0.2380 - accuracy: 0.9375\n",
      "Epoch 29/200\n",
      "10/10 [==============================] - 0s 2ms/step - loss: 0.3582 - accuracy: 0.9375\n",
      "Epoch 30/200\n",
      "10/10 [==============================] - 0s 2ms/step - loss: 0.2708 - accuracy: 0.9375\n",
      "Epoch 31/200\n",
      "10/10 [==============================] - 0s 2ms/step - loss: 0.1793 - accuracy: 0.9792\n",
      "Epoch 32/200\n",
      "10/10 [==============================] - 0s 2ms/step - loss: 0.3082 - accuracy: 0.8958\n",
      "Epoch 33/200\n",
      "10/10 [==============================] - 0s 2ms/step - loss: 0.2059 - accuracy: 0.9583\n",
      "Epoch 34/200\n",
      "10/10 [==============================] - 0s 2ms/step - loss: 0.3179 - accuracy: 0.8542\n",
      "Epoch 35/200\n",
      "10/10 [==============================] - 0s 2ms/step - loss: 0.1387 - accuracy: 1.0000\n",
      "Epoch 36/200\n",
      "10/10 [==============================] - 0s 2ms/step - loss: 0.1308 - accuracy: 1.0000\n",
      "Epoch 37/200\n",
      "10/10 [==============================] - 0s 2ms/step - loss: 0.1344 - accuracy: 0.9792\n",
      "Epoch 38/200\n",
      "10/10 [==============================] - 0s 2ms/step - loss: 0.0985 - accuracy: 1.0000\n",
      "Epoch 39/200\n",
      "10/10 [==============================] - 0s 2ms/step - loss: 0.1706 - accuracy: 0.9792\n",
      "Epoch 40/200\n",
      "10/10 [==============================] - 0s 2ms/step - loss: 0.1930 - accuracy: 0.9792\n",
      "Epoch 41/200\n",
      "10/10 [==============================] - 0s 2ms/step - loss: 0.1187 - accuracy: 0.9583\n",
      "Epoch 42/200\n",
      "10/10 [==============================] - 0s 2ms/step - loss: 0.0821 - accuracy: 0.9792\n",
      "Epoch 43/200\n",
      "10/10 [==============================] - 0s 2ms/step - loss: 0.1661 - accuracy: 0.9375\n",
      "Epoch 44/200\n",
      "10/10 [==============================] - 0s 2ms/step - loss: 0.0885 - accuracy: 1.0000\n",
      "Epoch 45/200\n",
      "10/10 [==============================] - 0s 2ms/step - loss: 0.2030 - accuracy: 0.9375\n",
      "Epoch 46/200\n",
      "10/10 [==============================] - 0s 2ms/step - loss: 0.0930 - accuracy: 0.9792\n",
      "Epoch 47/200\n",
      "10/10 [==============================] - 0s 2ms/step - loss: 0.1131 - accuracy: 0.9792\n",
      "Epoch 48/200\n",
      "10/10 [==============================] - 0s 2ms/step - loss: 0.1151 - accuracy: 0.9583\n",
      "Epoch 49/200\n",
      "10/10 [==============================] - 0s 2ms/step - loss: 0.1258 - accuracy: 0.9792\n",
      "Epoch 50/200\n",
      "10/10 [==============================] - 0s 2ms/step - loss: 0.1294 - accuracy: 0.9792\n",
      "Epoch 51/200\n",
      "10/10 [==============================] - 0s 2ms/step - loss: 0.0979 - accuracy: 0.9792\n",
      "Epoch 52/200\n",
      "10/10 [==============================] - 0s 2ms/step - loss: 0.1487 - accuracy: 0.9375\n",
      "Epoch 53/200\n",
      "10/10 [==============================] - 0s 2ms/step - loss: 0.1160 - accuracy: 0.9375\n",
      "Epoch 54/200\n",
      "10/10 [==============================] - 0s 2ms/step - loss: 0.1120 - accuracy: 0.9792\n",
      "Epoch 55/200\n",
      "10/10 [==============================] - 0s 2ms/step - loss: 0.0684 - accuracy: 0.9792\n",
      "Epoch 56/200\n",
      "10/10 [==============================] - 0s 2ms/step - loss: 0.1066 - accuracy: 0.9583\n",
      "Epoch 57/200\n",
      "10/10 [==============================] - 0s 2ms/step - loss: 0.0828 - accuracy: 1.0000\n",
      "Epoch 58/200\n",
      "10/10 [==============================] - 0s 2ms/step - loss: 0.1147 - accuracy: 0.9583\n",
      "Epoch 59/200\n",
      "10/10 [==============================] - 0s 2ms/step - loss: 0.1035 - accuracy: 0.9583\n",
      "Epoch 60/200\n",
      "10/10 [==============================] - 0s 2ms/step - loss: 0.0485 - accuracy: 1.0000\n",
      "Epoch 61/200\n",
      "10/10 [==============================] - 0s 2ms/step - loss: 0.1161 - accuracy: 0.9583\n",
      "Epoch 62/200\n",
      "10/10 [==============================] - 0s 2ms/step - loss: 0.0654 - accuracy: 1.0000\n",
      "Epoch 63/200\n",
      "10/10 [==============================] - 0s 2ms/step - loss: 0.1913 - accuracy: 0.9375\n",
      "Epoch 64/200\n",
      "10/10 [==============================] - 0s 2ms/step - loss: 0.0440 - accuracy: 1.0000\n",
      "Epoch 65/200\n",
      "10/10 [==============================] - 0s 2ms/step - loss: 0.0389 - accuracy: 1.0000\n",
      "Epoch 66/200\n",
      "10/10 [==============================] - 0s 2ms/step - loss: 0.1198 - accuracy: 0.9583\n",
      "Epoch 67/200\n",
      "10/10 [==============================] - 0s 2ms/step - loss: 0.1708 - accuracy: 0.9375\n",
      "Epoch 68/200\n",
      "10/10 [==============================] - 0s 2ms/step - loss: 0.0415 - accuracy: 1.0000\n",
      "Epoch 69/200\n",
      "10/10 [==============================] - 0s 2ms/step - loss: 0.2580 - accuracy: 0.9375\n",
      "Epoch 70/200\n",
      "10/10 [==============================] - 0s 2ms/step - loss: 0.0686 - accuracy: 0.9792\n",
      "Epoch 71/200\n",
      "10/10 [==============================] - 0s 2ms/step - loss: 0.0647 - accuracy: 0.9792\n",
      "Epoch 72/200\n",
      "10/10 [==============================] - 0s 2ms/step - loss: 0.0755 - accuracy: 1.0000\n",
      "Epoch 73/200\n",
      "10/10 [==============================] - 0s 2ms/step - loss: 0.0579 - accuracy: 1.0000\n",
      "Epoch 74/200\n",
      "10/10 [==============================] - 0s 2ms/step - loss: 0.0370 - accuracy: 1.0000\n",
      "Epoch 75/200\n",
      "10/10 [==============================] - 0s 2ms/step - loss: 0.0385 - accuracy: 1.0000\n",
      "Epoch 76/200\n",
      "10/10 [==============================] - 0s 2ms/step - loss: 0.0237 - accuracy: 1.0000\n",
      "Epoch 77/200\n",
      "10/10 [==============================] - 0s 2ms/step - loss: 0.1183 - accuracy: 0.9583\n",
      "Epoch 78/200\n",
      "10/10 [==============================] - 0s 2ms/step - loss: 0.0570 - accuracy: 1.0000\n",
      "Epoch 79/200\n",
      "10/10 [==============================] - 0s 2ms/step - loss: 0.0841 - accuracy: 0.9792\n",
      "Epoch 80/200\n",
      "10/10 [==============================] - 0s 2ms/step - loss: 0.0330 - accuracy: 1.0000\n",
      "Epoch 81/200\n",
      "10/10 [==============================] - 0s 2ms/step - loss: 0.0836 - accuracy: 0.9792\n",
      "Epoch 82/200\n",
      "10/10 [==============================] - 0s 2ms/step - loss: 0.0201 - accuracy: 1.0000\n",
      "Epoch 83/200\n",
      "10/10 [==============================] - 0s 2ms/step - loss: 0.0315 - accuracy: 1.0000\n",
      "Epoch 84/200\n",
      "10/10 [==============================] - 0s 2ms/step - loss: 0.1254 - accuracy: 0.9375\n",
      "Epoch 85/200\n",
      "10/10 [==============================] - 0s 2ms/step - loss: 0.0243 - accuracy: 1.0000\n",
      "Epoch 86/200\n",
      "10/10 [==============================] - 0s 2ms/step - loss: 0.0351 - accuracy: 1.0000\n",
      "Epoch 87/200\n",
      "10/10 [==============================] - 0s 2ms/step - loss: 0.0442 - accuracy: 1.0000\n",
      "Epoch 88/200\n",
      "10/10 [==============================] - 0s 2ms/step - loss: 0.0731 - accuracy: 0.9792\n",
      "Epoch 89/200\n",
      "10/10 [==============================] - 0s 2ms/step - loss: 0.0161 - accuracy: 1.0000\n",
      "Epoch 90/200\n",
      "10/10 [==============================] - 0s 2ms/step - loss: 0.0786 - accuracy: 0.9792\n",
      "Epoch 91/200\n",
      "10/10 [==============================] - 0s 2ms/step - loss: 0.0206 - accuracy: 1.0000\n",
      "Epoch 92/200\n",
      "10/10 [==============================] - 0s 2ms/step - loss: 0.0438 - accuracy: 0.9792\n",
      "Epoch 93/200\n",
      "10/10 [==============================] - 0s 2ms/step - loss: 0.0386 - accuracy: 1.0000\n",
      "Epoch 94/200\n",
      "10/10 [==============================] - 0s 2ms/step - loss: 0.1220 - accuracy: 0.9375\n",
      "Epoch 95/200\n",
      "10/10 [==============================] - 0s 2ms/step - loss: 0.0636 - accuracy: 0.9583\n",
      "Epoch 96/200\n",
      "10/10 [==============================] - 0s 2ms/step - loss: 0.0348 - accuracy: 1.0000\n",
      "Epoch 97/200\n",
      "10/10 [==============================] - 0s 2ms/step - loss: 0.0283 - accuracy: 1.0000\n",
      "Epoch 98/200\n",
      "10/10 [==============================] - 0s 2ms/step - loss: 0.0622 - accuracy: 1.0000\n",
      "Epoch 99/200\n",
      "10/10 [==============================] - 0s 2ms/step - loss: 0.0668 - accuracy: 0.9583\n",
      "Epoch 100/200\n",
      "10/10 [==============================] - 0s 2ms/step - loss: 0.0382 - accuracy: 1.0000\n",
      "Epoch 101/200\n",
      "10/10 [==============================] - 0s 2ms/step - loss: 0.0734 - accuracy: 0.9583\n",
      "Epoch 102/200\n",
      "10/10 [==============================] - 0s 2ms/step - loss: 0.0248 - accuracy: 1.0000\n",
      "Epoch 103/200\n",
      "10/10 [==============================] - 0s 2ms/step - loss: 0.0214 - accuracy: 1.0000\n",
      "Epoch 104/200\n",
      "10/10 [==============================] - 0s 2ms/step - loss: 0.0311 - accuracy: 1.0000\n",
      "Epoch 105/200\n",
      "10/10 [==============================] - 0s 2ms/step - loss: 0.0328 - accuracy: 1.0000\n",
      "Epoch 106/200\n",
      "10/10 [==============================] - 0s 2ms/step - loss: 0.0612 - accuracy: 0.9792\n",
      "Epoch 107/200\n",
      "10/10 [==============================] - 0s 2ms/step - loss: 0.0421 - accuracy: 1.0000\n",
      "Epoch 108/200\n",
      "10/10 [==============================] - 0s 2ms/step - loss: 0.0631 - accuracy: 1.0000\n",
      "Epoch 109/200\n",
      "10/10 [==============================] - 0s 2ms/step - loss: 0.0183 - accuracy: 1.0000\n",
      "Epoch 110/200\n",
      "10/10 [==============================] - 0s 2ms/step - loss: 0.0189 - accuracy: 1.0000\n",
      "Epoch 111/200\n",
      "10/10 [==============================] - 0s 2ms/step - loss: 0.0143 - accuracy: 1.0000\n",
      "Epoch 112/200\n",
      "10/10 [==============================] - 0s 2ms/step - loss: 0.0490 - accuracy: 1.0000\n",
      "Epoch 113/200\n",
      "10/10 [==============================] - 0s 2ms/step - loss: 0.0344 - accuracy: 1.0000\n",
      "Epoch 114/200\n",
      "10/10 [==============================] - 0s 2ms/step - loss: 0.0121 - accuracy: 1.0000\n",
      "Epoch 115/200\n",
      "10/10 [==============================] - 0s 2ms/step - loss: 0.0125 - accuracy: 1.0000\n",
      "Epoch 116/200\n",
      "10/10 [==============================] - 0s 2ms/step - loss: 0.0128 - accuracy: 1.0000\n",
      "Epoch 117/200\n",
      "10/10 [==============================] - 0s 2ms/step - loss: 0.0423 - accuracy: 1.0000\n",
      "Epoch 118/200\n",
      "10/10 [==============================] - 0s 2ms/step - loss: 0.0122 - accuracy: 1.0000\n",
      "Epoch 119/200\n",
      "10/10 [==============================] - 0s 2ms/step - loss: 0.0174 - accuracy: 1.0000\n",
      "Epoch 120/200\n",
      "10/10 [==============================] - 0s 2ms/step - loss: 0.0236 - accuracy: 1.0000\n",
      "Epoch 121/200\n",
      "10/10 [==============================] - 0s 2ms/step - loss: 0.0101 - accuracy: 1.0000\n",
      "Epoch 122/200\n",
      "10/10 [==============================] - 0s 2ms/step - loss: 0.0248 - accuracy: 1.0000\n",
      "Epoch 123/200\n",
      "10/10 [==============================] - 0s 2ms/step - loss: 0.0225 - accuracy: 1.0000\n",
      "Epoch 124/200\n",
      "10/10 [==============================] - 0s 2ms/step - loss: 0.0185 - accuracy: 1.0000\n",
      "Epoch 125/200\n",
      "10/10 [==============================] - 0s 2ms/step - loss: 0.0131 - accuracy: 1.0000\n",
      "Epoch 126/200\n",
      "10/10 [==============================] - 0s 2ms/step - loss: 0.0204 - accuracy: 1.0000\n",
      "Epoch 127/200\n",
      "10/10 [==============================] - 0s 2ms/step - loss: 0.0167 - accuracy: 1.0000\n",
      "Epoch 128/200\n",
      "10/10 [==============================] - 0s 2ms/step - loss: 0.0108 - accuracy: 1.0000\n",
      "Epoch 129/200\n",
      "10/10 [==============================] - 0s 2ms/step - loss: 0.0250 - accuracy: 1.0000\n",
      "Epoch 130/200\n",
      "10/10 [==============================] - 0s 2ms/step - loss: 0.0388 - accuracy: 1.0000\n",
      "Epoch 131/200\n",
      "10/10 [==============================] - 0s 2ms/step - loss: 0.0434 - accuracy: 1.0000\n",
      "Epoch 132/200\n",
      "10/10 [==============================] - 0s 2ms/step - loss: 0.0175 - accuracy: 1.0000\n",
      "Epoch 133/200\n",
      "10/10 [==============================] - 0s 2ms/step - loss: 0.0054 - accuracy: 1.0000\n",
      "Epoch 134/200\n",
      "10/10 [==============================] - 0s 2ms/step - loss: 0.0330 - accuracy: 0.9792\n",
      "Epoch 135/200\n",
      "10/10 [==============================] - 0s 2ms/step - loss: 0.0843 - accuracy: 0.9792\n",
      "Epoch 136/200\n",
      "10/10 [==============================] - 0s 2ms/step - loss: 0.0816 - accuracy: 0.9792\n",
      "Epoch 137/200\n",
      "10/10 [==============================] - 0s 2ms/step - loss: 0.0036 - accuracy: 1.0000\n",
      "Epoch 138/200\n",
      "10/10 [==============================] - 0s 2ms/step - loss: 0.0132 - accuracy: 1.0000\n",
      "Epoch 139/200\n",
      "10/10 [==============================] - 0s 2ms/step - loss: 0.0830 - accuracy: 0.9583\n",
      "Epoch 140/200\n",
      "10/10 [==============================] - 0s 2ms/step - loss: 0.0183 - accuracy: 1.0000\n",
      "Epoch 141/200\n",
      "10/10 [==============================] - 0s 2ms/step - loss: 0.0189 - accuracy: 1.0000\n",
      "Epoch 142/200\n",
      "10/10 [==============================] - 0s 2ms/step - loss: 0.0202 - accuracy: 1.0000\n",
      "Epoch 143/200\n",
      "10/10 [==============================] - 0s 2ms/step - loss: 0.0710 - accuracy: 0.9792\n",
      "Epoch 144/200\n",
      "10/10 [==============================] - 0s 2ms/step - loss: 0.0472 - accuracy: 0.9792\n",
      "Epoch 145/200\n",
      "10/10 [==============================] - 0s 2ms/step - loss: 0.0461 - accuracy: 0.9792\n",
      "Epoch 146/200\n",
      "10/10 [==============================] - 0s 2ms/step - loss: 0.0571 - accuracy: 0.9792\n",
      "Epoch 147/200\n",
      "10/10 [==============================] - 0s 2ms/step - loss: 0.0108 - accuracy: 1.0000\n",
      "Epoch 148/200\n",
      "10/10 [==============================] - 0s 2ms/step - loss: 0.0113 - accuracy: 1.0000\n",
      "Epoch 149/200\n",
      "10/10 [==============================] - 0s 2ms/step - loss: 0.0154 - accuracy: 1.0000\n",
      "Epoch 150/200\n",
      "10/10 [==============================] - 0s 2ms/step - loss: 0.0052 - accuracy: 1.0000\n",
      "Epoch 151/200\n",
      "10/10 [==============================] - 0s 2ms/step - loss: 0.0404 - accuracy: 0.9792\n",
      "Epoch 152/200\n",
      "10/10 [==============================] - 0s 2ms/step - loss: 0.0621 - accuracy: 0.9792\n",
      "Epoch 153/200\n",
      "10/10 [==============================] - 0s 2ms/step - loss: 0.0302 - accuracy: 1.0000\n",
      "Epoch 154/200\n",
      "10/10 [==============================] - 0s 2ms/step - loss: 0.0188 - accuracy: 1.0000\n",
      "Epoch 155/200\n",
      "10/10 [==============================] - 0s 2ms/step - loss: 0.0435 - accuracy: 0.9792\n",
      "Epoch 156/200\n",
      "10/10 [==============================] - 0s 2ms/step - loss: 0.0277 - accuracy: 0.9792\n",
      "Epoch 157/200\n",
      "10/10 [==============================] - 0s 2ms/step - loss: 0.0284 - accuracy: 1.0000\n",
      "Epoch 158/200\n",
      "10/10 [==============================] - 0s 2ms/step - loss: 0.0079 - accuracy: 1.0000\n",
      "Epoch 159/200\n",
      "10/10 [==============================] - 0s 2ms/step - loss: 0.0421 - accuracy: 0.9792\n",
      "Epoch 160/200\n",
      "10/10 [==============================] - 0s 2ms/step - loss: 0.0658 - accuracy: 0.9792\n",
      "Epoch 161/200\n",
      "10/10 [==============================] - 0s 2ms/step - loss: 0.0388 - accuracy: 0.9792\n",
      "Epoch 162/200\n",
      "10/10 [==============================] - 0s 2ms/step - loss: 0.0098 - accuracy: 1.0000\n",
      "Epoch 163/200\n",
      "10/10 [==============================] - 0s 2ms/step - loss: 0.0435 - accuracy: 0.9792\n",
      "Epoch 164/200\n",
      "10/10 [==============================] - 0s 2ms/step - loss: 0.0073 - accuracy: 1.0000\n",
      "Epoch 165/200\n",
      "10/10 [==============================] - 0s 2ms/step - loss: 0.0084 - accuracy: 1.0000\n",
      "Epoch 166/200\n",
      "10/10 [==============================] - 0s 2ms/step - loss: 0.0198 - accuracy: 1.0000\n",
      "Epoch 167/200\n",
      "10/10 [==============================] - 0s 2ms/step - loss: 0.0091 - accuracy: 1.0000\n",
      "Epoch 168/200\n",
      "10/10 [==============================] - 0s 2ms/step - loss: 0.0251 - accuracy: 0.9792\n",
      "Epoch 169/200\n",
      "10/10 [==============================] - 0s 2ms/step - loss: 0.0217 - accuracy: 1.0000\n",
      "Epoch 170/200\n",
      "10/10 [==============================] - 0s 2ms/step - loss: 0.0361 - accuracy: 1.0000\n",
      "Epoch 171/200\n",
      "10/10 [==============================] - 0s 2ms/step - loss: 0.0080 - accuracy: 1.0000\n",
      "Epoch 172/200\n",
      "10/10 [==============================] - 0s 2ms/step - loss: 0.0488 - accuracy: 0.9792\n",
      "Epoch 173/200\n",
      "10/10 [==============================] - 0s 2ms/step - loss: 0.0163 - accuracy: 1.0000\n",
      "Epoch 174/200\n",
      "10/10 [==============================] - 0s 2ms/step - loss: 0.0315 - accuracy: 1.0000\n",
      "Epoch 175/200\n",
      "10/10 [==============================] - 0s 2ms/step - loss: 0.0206 - accuracy: 1.0000\n",
      "Epoch 176/200\n",
      "10/10 [==============================] - 0s 2ms/step - loss: 0.0284 - accuracy: 1.0000\n",
      "Epoch 177/200\n",
      "10/10 [==============================] - 0s 2ms/step - loss: 0.0203 - accuracy: 1.0000\n",
      "Epoch 178/200\n",
      "10/10 [==============================] - 0s 2ms/step - loss: 0.0093 - accuracy: 1.0000\n",
      "Epoch 179/200\n",
      "10/10 [==============================] - 0s 2ms/step - loss: 0.0322 - accuracy: 1.0000\n",
      "Epoch 180/200\n",
      "10/10 [==============================] - 0s 2ms/step - loss: 0.0195 - accuracy: 1.0000\n",
      "Epoch 181/200\n",
      "10/10 [==============================] - 0s 2ms/step - loss: 0.0139 - accuracy: 1.0000\n",
      "Epoch 182/200\n",
      "10/10 [==============================] - 0s 2ms/step - loss: 0.0048 - accuracy: 1.0000\n",
      "Epoch 183/200\n",
      "10/10 [==============================] - 0s 2ms/step - loss: 0.0160 - accuracy: 1.0000\n",
      "Epoch 184/200\n",
      "10/10 [==============================] - 0s 2ms/step - loss: 0.0191 - accuracy: 1.0000\n",
      "Epoch 185/200\n",
      "10/10 [==============================] - 0s 2ms/step - loss: 0.0109 - accuracy: 1.0000\n",
      "Epoch 186/200\n",
      "10/10 [==============================] - 0s 2ms/step - loss: 0.0294 - accuracy: 1.0000\n",
      "Epoch 187/200\n",
      "10/10 [==============================] - 0s 2ms/step - loss: 0.0240 - accuracy: 1.0000\n",
      "Epoch 188/200\n",
      "10/10 [==============================] - 0s 2ms/step - loss: 0.0126 - accuracy: 1.0000\n",
      "Epoch 189/200\n",
      "10/10 [==============================] - 0s 2ms/step - loss: 0.0424 - accuracy: 0.9792\n",
      "Epoch 190/200\n",
      "10/10 [==============================] - 0s 2ms/step - loss: 0.0260 - accuracy: 1.0000\n",
      "Epoch 191/200\n",
      "10/10 [==============================] - 0s 2ms/step - loss: 0.0336 - accuracy: 0.9792\n",
      "Epoch 192/200\n",
      "10/10 [==============================] - 0s 2ms/step - loss: 0.0074 - accuracy: 1.0000\n",
      "Epoch 193/200\n",
      "10/10 [==============================] - 0s 2ms/step - loss: 0.0088 - accuracy: 1.0000\n",
      "Epoch 194/200\n",
      "10/10 [==============================] - 0s 2ms/step - loss: 0.0116 - accuracy: 1.0000\n",
      "Epoch 195/200\n",
      "10/10 [==============================] - 0s 2ms/step - loss: 0.0079 - accuracy: 1.0000\n",
      "Epoch 196/200\n",
      "10/10 [==============================] - 0s 2ms/step - loss: 0.0316 - accuracy: 0.9792\n",
      "Epoch 197/200\n",
      "10/10 [==============================] - 0s 2ms/step - loss: 0.0084 - accuracy: 1.0000\n",
      "Epoch 198/200\n",
      "10/10 [==============================] - 0s 2ms/step - loss: 0.0352 - accuracy: 1.0000\n",
      "Epoch 199/200\n",
      "10/10 [==============================] - 0s 2ms/step - loss: 0.0077 - accuracy: 1.0000\n",
      "Epoch 200/200\n",
      "10/10 [==============================] - 0s 2ms/step - loss: 0.0088 - accuracy: 1.0000\n",
      "model created\n"
     ]
    }
   ],
   "source": [
    "# Create model - 3 layers. First layer 128 neurons, second layer 64 neurons and 3rd output layer contains number of neurons\n",
    "# equal to number of intents to predict output intent with softmax\n",
    "model = Sequential()\n",
    "model.add(Dense(128, input_shape=(len(train_x[0]),), activation='relu'))\n",
    "model.add(Dropout(0.5))\n",
    "model.add(Dense(64, activation='relu'))\n",
    "model.add(Dropout(0.5))\n",
    "model.add(Dense(len(train_y[0]), activation='softmax'))\n",
    "\n",
    "# Compile model. Stochastic gradient descent with Nesterov accelerated gradient gives good results for this model\n",
    "sgd = SGD(lr=0.01, decay=1e-6, momentum=0.9, nesterov=True)\n",
    "model.compile(loss='categorical_crossentropy', optimizer=sgd, metrics=['accuracy'])\n",
    "\n",
    "#fitting and saving the model \n",
    "hist = model.fit(np.array(train_x), np.array(train_y), epochs=200, batch_size=5, verbose=1)\n",
    "model.save('chatbot_model.h5', hist)\n",
    "\n",
    "print(\"model created\")"
   ]
  },
  {
   "cell_type": "markdown",
   "id": "41593e7f-1f4b-4643-86b4-e49a6706b558",
   "metadata": {},
   "source": [
    "# 5. Predict the response (Graphical User Interface)\n",
    "We will load the trained model and then use a graphical user interface that will predict the response from the bot. The model will only tell us the class it belongs to, so we will implement some functions which will identify the class and then retrieve us a random response from the list of responses.\n",
    "\n",
    "The following shows the prediction by pre-trained model. I added a seperated file to use GUI, which gets the user input and predict an output for user."
   ]
  },
  {
   "cell_type": "code",
   "execution_count": 21,
   "id": "17c287d0-16dc-4698-96dd-660a6c847b0f",
   "metadata": {
    "tags": []
   },
   "outputs": [],
   "source": [
    "from keras.models import load_model\n",
    "model = load_model('chatbot_model.h5')\n",
    "\n",
    "intents = json.loads(open('intents.json').read())\n",
    "words = pickle.load(open('words.pkl','rb'))"
   ]
  },
  {
   "cell_type": "markdown",
   "id": "60bfe798-948d-4732-acaf-5a0ba32a7c8f",
   "metadata": {},
   "source": [
    "we will create some functions that will perform text preprocessing and then predict the class."
   ]
  },
  {
   "cell_type": "code",
   "execution_count": 22,
   "id": "3cbb593b-5cdb-4af0-814d-d364d36dc31f",
   "metadata": {
    "tags": []
   },
   "outputs": [],
   "source": [
    "def clean_up_sentence(sentence):\n",
    "    # tokenize the pattern - split words into array\n",
    "    sentence_words = nltk.word_tokenize(sentence)\n",
    "    # stem each word - create short form for word\n",
    "    sentence_words = [lemmatizer.lemmatize(word.lower()) for word in sentence_words]\n",
    "    return sentence_words\n",
    "\n",
    "\n",
    "# return bag of words array: 0 or 1 for each word in the bag that exists in the sentence\n",
    "# One-hot encoding\n",
    "def bow(sentence, words, show_details=True):\n",
    "    # tokenize the pattern\n",
    "    sentence_words = clean_up_sentence(sentence)\n",
    "    # bag of words - matrix of N words, vocabulary matrix\n",
    "    bag = [0]*len(words) \n",
    "    for s in sentence_words:\n",
    "        for i,w in enumerate(words):\n",
    "            if w == s: \n",
    "                # assign 1 if current word is in the vocabulary position\n",
    "                bag[i] = 1\n",
    "                if show_details:\n",
    "                    print (\"found in bag: %s\" % w)\n",
    "    return(np.array(bag))\n",
    "\n",
    "def predict_class(sentence, model):\n",
    "    # filter out predictions below a threshold\n",
    "    p = bow(sentence, words,show_details=False)\n",
    "    res = model.predict(np.array([p]))[0]\n",
    "    ERROR_THRESHOLD = 0.25\n",
    "    results = [[i,r] for i,r in enumerate(res) if r>ERROR_THRESHOLD]\n",
    "    # sort by strength of probability\n",
    "    results.sort(key=lambda x: x[1], reverse=True)\n",
    "    return_list = []\n",
    "    for r in results:\n",
    "        return_list.append({\"intent\": classes[r[0]], \"probability\": str(r[1])})\n",
    "    return return_list"
   ]
  },
  {
   "cell_type": "code",
   "execution_count": 23,
   "id": "af1bf9d0-3c24-4a4d-b1c9-e65bbc66d698",
   "metadata": {
    "tags": []
   },
   "outputs": [],
   "source": [
    "def getResponse(ints, intents_json):\n",
    "    tag = ints[0]['intent']\n",
    "    list_of_intents = intents_json['intents']\n",
    "    for i in list_of_intents:\n",
    "        if(i['tag']== tag):\n",
    "            result = random.choice(i['responses'])\n",
    "            break\n",
    "    return result\n",
    "\n",
    "def chatbot_response(text):\n",
    "    ints = predict_class(text, model)\n",
    "    res = getResponse(ints, intents)\n",
    "    return res"
   ]
  },
  {
   "cell_type": "code",
   "execution_count": 24,
   "id": "e39602fe-a168-486c-abeb-aa5a1826c4b4",
   "metadata": {
    "tags": []
   },
   "outputs": [
    {
     "ename": "TclError",
     "evalue": "no display name and no $DISPLAY environment variable",
     "output_type": "error",
     "traceback": [
      "\u001b[0;31m---------------------------------------------------------------------------\u001b[0m",
      "\u001b[0;31mTclError\u001b[0m                                  Traceback (most recent call last)",
      "Cell \u001b[0;32mIn[24], line 21\u001b[0m\n\u001b[1;32m     18\u001b[0m         ChatLog\u001b[38;5;241m.\u001b[39mconfig(state\u001b[38;5;241m=\u001b[39mDISABLED)\n\u001b[1;32m     19\u001b[0m         ChatLog\u001b[38;5;241m.\u001b[39myview(END)\n\u001b[0;32m---> 21\u001b[0m base \u001b[38;5;241m=\u001b[39m \u001b[43mTk\u001b[49m\u001b[43m(\u001b[49m\u001b[43m)\u001b[49m\n\u001b[1;32m     22\u001b[0m base\u001b[38;5;241m.\u001b[39mtitle(\u001b[38;5;124m\"\u001b[39m\u001b[38;5;124mHello\u001b[39m\u001b[38;5;124m\"\u001b[39m)\n\u001b[1;32m     23\u001b[0m base\u001b[38;5;241m.\u001b[39mgeometry(\u001b[38;5;124m\"\u001b[39m\u001b[38;5;124m400x500\u001b[39m\u001b[38;5;124m\"\u001b[39m)\n",
      "File \u001b[0;32m/opt/conda/lib/python3.10/tkinter/__init__.py:2299\u001b[0m, in \u001b[0;36mTk.__init__\u001b[0;34m(self, screenName, baseName, className, useTk, sync, use)\u001b[0m\n\u001b[1;32m   2297\u001b[0m         baseName \u001b[38;5;241m=\u001b[39m baseName \u001b[38;5;241m+\u001b[39m ext\n\u001b[1;32m   2298\u001b[0m interactive \u001b[38;5;241m=\u001b[39m \u001b[38;5;28;01mFalse\u001b[39;00m\n\u001b[0;32m-> 2299\u001b[0m \u001b[38;5;28mself\u001b[39m\u001b[38;5;241m.\u001b[39mtk \u001b[38;5;241m=\u001b[39m \u001b[43m_tkinter\u001b[49m\u001b[38;5;241;43m.\u001b[39;49m\u001b[43mcreate\u001b[49m\u001b[43m(\u001b[49m\u001b[43mscreenName\u001b[49m\u001b[43m,\u001b[49m\u001b[43m \u001b[49m\u001b[43mbaseName\u001b[49m\u001b[43m,\u001b[49m\u001b[43m \u001b[49m\u001b[43mclassName\u001b[49m\u001b[43m,\u001b[49m\u001b[43m \u001b[49m\u001b[43minteractive\u001b[49m\u001b[43m,\u001b[49m\u001b[43m \u001b[49m\u001b[43mwantobjects\u001b[49m\u001b[43m,\u001b[49m\u001b[43m \u001b[49m\u001b[43museTk\u001b[49m\u001b[43m,\u001b[49m\u001b[43m \u001b[49m\u001b[43msync\u001b[49m\u001b[43m,\u001b[49m\u001b[43m \u001b[49m\u001b[43muse\u001b[49m\u001b[43m)\u001b[49m\n\u001b[1;32m   2300\u001b[0m \u001b[38;5;28;01mif\u001b[39;00m useTk:\n\u001b[1;32m   2301\u001b[0m     \u001b[38;5;28mself\u001b[39m\u001b[38;5;241m.\u001b[39m_loadtk()\n",
      "\u001b[0;31mTclError\u001b[0m: no display name and no $DISPLAY environment variable"
     ]
    }
   ],
   "source": [
    "#Creating GUI with tkinter\n",
    "import tkinter\n",
    "from tkinter import *\n",
    "\n",
    "\n",
    "def send():\n",
    "    msg = EntryBox.get(\"1.0\",'end-1c').strip()\n",
    "    EntryBox.delete(\"0.0\",END)\n",
    "\n",
    "    if msg != '':\n",
    "        ChatLog.config(state=NORMAL)\n",
    "        ChatLog.insert(END, \"You: \" + msg + '\\n\\n')\n",
    "        ChatLog.config(foreground=\"#442265\", font=(\"Verdana\", 12 ))\n",
    "\n",
    "        res = chatbot_response(msg)\n",
    "        ChatLog.insert(END, \"Bot: \" + res + '\\n\\n')\n",
    "\n",
    "        ChatLog.config(state=DISABLED)\n",
    "        ChatLog.yview(END)\n",
    "\n",
    "base = Tk()\n",
    "base.title(\"Hello\")\n",
    "base.geometry(\"400x500\")\n",
    "base.resizable(width=FALSE, height=FALSE)\n",
    "\n",
    "#Create Chat window\n",
    "ChatLog = Text(base, bd=0, bg=\"white\", height=\"8\", width=\"50\", font=\"Arial\",)\n",
    "\n",
    "ChatLog.config(state=DISABLED)\n",
    "\n",
    "#Bind scrollbar to Chat window\n",
    "scrollbar = Scrollbar(base, command=ChatLog.yview, cursor=\"heart\")\n",
    "ChatLog['yscrollcommand'] = scrollbar.set\n",
    "\n",
    "#Create Button to send message\n",
    "SendButton = Button(base, font=(\"Verdana\",12,'bold'), text=\"Send\", width=\"12\", height=5,\n",
    "                    bd=0, bg=\"#32de97\", activebackground=\"#3c9d9b\",fg='#ffffff',\n",
    "                    command= send )\n",
    "\n",
    "#Create the box to enter message\n",
    "EntryBox = Text(base, bd=0, bg=\"white\",width=\"29\", height=\"5\", font=\"Arial\")\n",
    "#EntryBox.bind(\"<Return>\", send)\n",
    "\n",
    "\n",
    "#Place all components on the screen\n",
    "scrollbar.place(x=376,y=6, height=386)\n",
    "ChatLog.place(x=6,y=6, height=386, width=370)\n",
    "EntryBox.place(x=128, y=401, height=90, width=265)\n",
    "SendButton.place(x=6, y=401, height=90)\n",
    "\n",
    "base.mainloop()"
   ]
  },
  {
   "cell_type": "code",
   "execution_count": 27,
   "id": "69da00f9-4d4d-4ae3-8f36-f51acd7350bc",
   "metadata": {
    "tags": []
   },
   "outputs": [
    {
     "name": "stdout",
     "output_type": "stream",
     "text": [
      "1/1 [==============================] - 0s 24ms/step\n"
     ]
    },
    {
     "data": {
      "text/plain": [
       "'Hello, thanks for asking'"
      ]
     },
     "execution_count": 27,
     "metadata": {},
     "output_type": "execute_result"
    }
   ],
   "source": [
    "chatbot_response(\"hello there! How are you?\")"
   ]
  },
  {
   "cell_type": "code",
   "execution_count": 28,
   "id": "665f3d1a-8a94-408d-bd98-f7eef8ca985a",
   "metadata": {
    "tags": []
   },
   "outputs": [
    {
     "name": "stdout",
     "output_type": "stream",
     "text": [
      "1/1 [==============================] - 0s 24ms/step\n"
     ]
    },
    {
     "data": {
      "text/plain": [
       "'Hi there, how can I help?'"
      ]
     },
     "execution_count": 28,
     "metadata": {},
     "output_type": "execute_result"
    }
   ],
   "source": [
    "chatbot_response(\"hello there! How are you?\")"
   ]
  },
  {
   "cell_type": "code",
   "execution_count": 29,
   "id": "05db9c82-253f-403b-a259-b3aac5039071",
   "metadata": {
    "tags": []
   },
   "outputs": [
    {
     "name": "stdout",
     "output_type": "stream",
     "text": [
      "1/1 [==============================] - 0s 24ms/step\n"
     ]
    },
    {
     "data": {
      "text/plain": [
       "'Good to see you again'"
      ]
     },
     "execution_count": 29,
     "metadata": {},
     "output_type": "execute_result"
    }
   ],
   "source": [
    "chatbot_response(\"hello there! How are you?\")"
   ]
  },
  {
   "cell_type": "code",
   "execution_count": 30,
   "id": "fa681ef9-31cf-46fd-9cc5-189e10f139c9",
   "metadata": {
    "tags": []
   },
   "outputs": [
    {
     "name": "stdout",
     "output_type": "stream",
     "text": [
      "1/1 [==============================] - 0s 24ms/step\n"
     ]
    },
    {
     "data": {
      "text/plain": [
       "'I can guide you through Adverse drug reaction list, Blood pressure tracking, Hospitals and Pharmacies'"
      ]
     },
     "execution_count": 30,
     "metadata": {},
     "output_type": "execute_result"
    }
   ],
   "source": [
    "chatbot_response(\"What can you do?\")"
   ]
  },
  {
   "cell_type": "code",
   "execution_count": 31,
   "id": "f9262f14-6915-4cc3-bed1-8032324606a3",
   "metadata": {
    "tags": []
   },
   "outputs": [
    {
     "name": "stdout",
     "output_type": "stream",
     "text": [
      "1/1 [==============================] - 0s 25ms/step\n"
     ]
    },
    {
     "data": {
      "text/plain": [
       "'Offering support for Adverse drug reaction, Blood pressure, Hospitals and Pharmacies'"
      ]
     },
     "execution_count": 31,
     "metadata": {},
     "output_type": "execute_result"
    }
   ],
   "source": [
    "chatbot_response(\"What can you do?\")"
   ]
  }
 ],
 "metadata": {
  "kernelspec": {
   "display_name": "Python 3 (ipykernel)",
   "language": "python",
   "name": "python3"
  },
  "language_info": {
   "codemirror_mode": {
    "name": "ipython",
    "version": 3
   },
   "file_extension": ".py",
   "mimetype": "text/x-python",
   "name": "python",
   "nbconvert_exporter": "python",
   "pygments_lexer": "ipython3",
   "version": "3.10.8"
  }
 },
 "nbformat": 4,
 "nbformat_minor": 5
}
